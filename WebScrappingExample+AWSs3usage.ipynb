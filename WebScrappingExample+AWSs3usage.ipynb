{
 "cells": [
  {
   "cell_type": "markdown",
   "id": "47097983",
   "metadata": {},
   "source": [
    "## Dollar-Euro exchange rate in past 2 years"
   ]
  },
  {
   "cell_type": "markdown",
   "id": "9e94e6a8",
   "metadata": {},
   "source": [
    "In this example, I will use web scrapping technique to explain and visualize the monthly fluctuations in the exchange rate between the US Dollar (USD) and the Euro (EUR) over the span of the past two years. After that, I will give an example of connection with Amazon Web Services (AWS) and store the new dataframe in AWS bucket."
   ]
  },
  {
   "cell_type": "markdown",
   "id": "02d39a8b",
   "metadata": {},
   "source": [
    "I will be using Alpha Vantage API from https://www.alphavantage.co/. It's stored in my local computer's enviromental variables."
   ]
  },
  {
   "cell_type": "code",
   "execution_count": 2,
   "id": "11ff6c96",
   "metadata": {},
   "outputs": [],
   "source": [
    "import pandas as pd ###using pandas in order to structure data in a dataframe and get all other benefits while wrangling data\n",
    "import os ###using os for enviromental variables \n",
    "import requests ###using requests to get the data from the website\n",
    "import matplotlib.pyplot as plt ###using matplot.lib.pyplot to plot data and show trends - to visually depict my goal\n",
    "import boto3 ###using boto3 to connect with and store data into my aws account"
   ]
  },
  {
   "cell_type": "code",
   "execution_count": 3,
   "id": "082f86a7",
   "metadata": {},
   "outputs": [],
   "source": [
    "api = os.environ.get('alphavantageapi')\n",
    "url = 'https://www.alphavantage.co/query?function=FX_MONTHLY&from_symbol=EUR&to_symbol=USD&apikey=api'\n",
    "r = requests.get(url)\n",
    "data = r.json()\n",
    "#print(data)"
   ]
  },
  {
   "cell_type": "code",
   "execution_count": 16,
   "id": "7abb974a",
   "metadata": {},
   "outputs": [
    {
     "data": {
      "text/html": [
       "<div>\n",
       "<style scoped>\n",
       "    .dataframe tbody tr th:only-of-type {\n",
       "        vertical-align: middle;\n",
       "    }\n",
       "\n",
       "    .dataframe tbody tr th {\n",
       "        vertical-align: top;\n",
       "    }\n",
       "\n",
       "    .dataframe thead th {\n",
       "        text-align: right;\n",
       "    }\n",
       "</style>\n",
       "<table border=\"1\" class=\"dataframe\">\n",
       "  <thead>\n",
       "    <tr style=\"text-align: right;\">\n",
       "      <th></th>\n",
       "      <th>Open</th>\n",
       "      <th>High</th>\n",
       "      <th>Low</th>\n",
       "      <th>Close</th>\n",
       "    </tr>\n",
       "  </thead>\n",
       "  <tbody>\n",
       "    <tr>\n",
       "      <th>2023-08-23</th>\n",
       "      <td>1.09966</td>\n",
       "      <td>1.10652</td>\n",
       "      <td>1.08010</td>\n",
       "      <td>1.08634</td>\n",
       "    </tr>\n",
       "    <tr>\n",
       "      <th>2023-07-31</th>\n",
       "      <td>1.09076</td>\n",
       "      <td>1.12758</td>\n",
       "      <td>1.08330</td>\n",
       "      <td>1.09968</td>\n",
       "    </tr>\n",
       "    <tr>\n",
       "      <th>2023-06-30</th>\n",
       "      <td>1.06856</td>\n",
       "      <td>1.10122</td>\n",
       "      <td>1.06610</td>\n",
       "      <td>1.09074</td>\n",
       "    </tr>\n",
       "    <tr>\n",
       "      <th>2023-05-31</th>\n",
       "      <td>1.10178</td>\n",
       "      <td>1.10917</td>\n",
       "      <td>1.06340</td>\n",
       "      <td>1.06856</td>\n",
       "    </tr>\n",
       "    <tr>\n",
       "      <th>2023-04-28</th>\n",
       "      <td>1.08418</td>\n",
       "      <td>1.10954</td>\n",
       "      <td>1.07870</td>\n",
       "      <td>1.10140</td>\n",
       "    </tr>\n",
       "    <tr>\n",
       "      <th>...</th>\n",
       "      <td>...</td>\n",
       "      <td>...</td>\n",
       "      <td>...</td>\n",
       "      <td>...</td>\n",
       "    </tr>\n",
       "    <tr>\n",
       "      <th>2004-11-30</th>\n",
       "      <td>1.27400</td>\n",
       "      <td>1.33340</td>\n",
       "      <td>1.26520</td>\n",
       "      <td>1.32810</td>\n",
       "    </tr>\n",
       "    <tr>\n",
       "      <th>2004-10-29</th>\n",
       "      <td>1.24310</td>\n",
       "      <td>1.28410</td>\n",
       "      <td>1.22230</td>\n",
       "      <td>1.27830</td>\n",
       "    </tr>\n",
       "    <tr>\n",
       "      <th>2004-09-30</th>\n",
       "      <td>1.21850</td>\n",
       "      <td>1.24440</td>\n",
       "      <td>1.20220</td>\n",
       "      <td>1.24310</td>\n",
       "    </tr>\n",
       "    <tr>\n",
       "      <th>2004-08-31</th>\n",
       "      <td>1.20620</td>\n",
       "      <td>1.23880</td>\n",
       "      <td>1.19650</td>\n",
       "      <td>1.21740</td>\n",
       "    </tr>\n",
       "    <tr>\n",
       "      <th>2004-07-30</th>\n",
       "      <td>1.21890</td>\n",
       "      <td>1.24600</td>\n",
       "      <td>1.19870</td>\n",
       "      <td>1.20070</td>\n",
       "    </tr>\n",
       "  </tbody>\n",
       "</table>\n",
       "<p>230 rows × 4 columns</p>\n",
       "</div>"
      ],
      "text/plain": [
       "               Open     High      Low    Close\n",
       "2023-08-23  1.09966  1.10652  1.08010  1.08634\n",
       "2023-07-31  1.09076  1.12758  1.08330  1.09968\n",
       "2023-06-30  1.06856  1.10122  1.06610  1.09074\n",
       "2023-05-31  1.10178  1.10917  1.06340  1.06856\n",
       "2023-04-28  1.08418  1.10954  1.07870  1.10140\n",
       "...             ...      ...      ...      ...\n",
       "2004-11-30  1.27400  1.33340  1.26520  1.32810\n",
       "2004-10-29  1.24310  1.28410  1.22230  1.27830\n",
       "2004-09-30  1.21850  1.24440  1.20220  1.24310\n",
       "2004-08-31  1.20620  1.23880  1.19650  1.21740\n",
       "2004-07-30  1.21890  1.24600  1.19870  1.20070\n",
       "\n",
       "[230 rows x 4 columns]"
      ]
     },
     "execution_count": 16,
     "metadata": {},
     "output_type": "execute_result"
    }
   ],
   "source": [
    "dataframe = pd.DataFrame.from_dict(data['Time Series FX (Monthly)'], orient = 'index')\n",
    "dataframe.columns = ['Open', 'High', 'Low', 'Close']\n",
    "dataframe\n",
    "###Columns are represented as following:\n",
    "#Open - the moment when the stock market is open\n",
    "#Close - the moment when the stock market is closed \n",
    "#High - the moment when the USD had the smallest value for a particular day \n",
    "#Low - the moment when the USD had the biggest value for a particular day\n",
    "###Monthly data from 2004 to 2023. It needs to be wrangled and cleaned to extract the desired information. I will append a column\n",
    "###with all dates transformed to a date type of data. After that it's gonna be easier to interpret the information."
   ]
  },
  {
   "cell_type": "code",
   "execution_count": 5,
   "id": "28cc8a58",
   "metadata": {},
   "outputs": [],
   "source": [
    "import datetime as dt\n",
    "\n",
    "transposeddf = pd.DataFrame.transpose(dataframe)\n",
    "\n",
    "\n",
    "YearMonthDay = []\n",
    "for month in transposeddf:\n",
    "    YearMonthDay.append(dt.datetime.strptime(month, \"%Y-%m-%d\").date())\n",
    "###using datetime to get date type of data\n",
    "###Transposing dataframe to iterate through the columns and get all dates\n",
    "#print(YearMonthDay)    "
   ]
  },
  {
   "cell_type": "code",
   "execution_count": 6,
   "id": "a83e68ed",
   "metadata": {},
   "outputs": [],
   "source": [
    "dataframe['Month'] = YearMonthDay\n",
    "###appending a new list to a dataframe\n",
    "#print(dataframe)"
   ]
  },
  {
   "cell_type": "code",
   "execution_count": 7,
   "id": "ee07ec21",
   "metadata": {},
   "outputs": [
    {
     "name": "stdout",
     "output_type": "stream",
     "text": [
      "               Open     High      Low    Close       Month\n",
      "2023-08-23  1.09966  1.10652  1.08010  1.08634  2023-08-23\n",
      "2023-07-31  1.09076  1.12758  1.08330  1.09968  2023-07-31\n",
      "2023-06-30  1.06856  1.10122  1.06610  1.09074  2023-06-30\n",
      "2023-05-31  1.10178  1.10917  1.06340  1.06856  2023-05-31\n",
      "2023-04-28  1.08418  1.10954  1.07870  1.10140  2023-04-28\n",
      "2023-03-31  1.05743  1.09300  1.05150  1.08381  2023-03-31\n",
      "2023-02-28  1.08610  1.10327  1.05310  1.05748  2023-02-28\n",
      "2023-01-31  1.07031  1.09294  1.04816  1.08626  2023-01-31\n",
      "2022-12-30  1.04041  1.07363  1.03906  1.07025  2022-12-30\n",
      "2022-11-30  0.98818  1.04969  0.97280  1.04041  2022-11-30\n",
      "2022-10-31  0.97954  1.00937  0.96290  0.98814  2022-10-31\n",
      "2022-09-30  1.00507  1.01979  0.95320  0.98003  2022-09-30\n",
      "2022-08-31  1.02182  1.03687  0.98990  1.00501  2022-08-31\n",
      "2022-07-29  1.04770  1.04820  0.99500  1.02248  2022-07-29\n",
      "2022-06-30  1.07308  1.07738  1.03570  1.04771  2022-06-30\n",
      "2022-05-31  1.05464  1.07870  1.03480  1.07313  2022-05-31\n",
      "2022-04-29  1.10658  1.10761  1.04690  1.05410  2022-04-29\n",
      "2022-03-31  1.12176  1.12331  1.08040  1.10660  2022-03-31\n",
      "2022-02-28  1.12346  1.14949  1.11040  1.12175  2022-02-28\n",
      "2022-01-31  1.13707  1.14830  1.11200  1.12334  2022-01-31\n",
      "2021-12-31  1.13350  1.13865  1.12200  1.13659  2021-12-31\n",
      "2021-11-30  1.15631  1.16164  1.11850  1.13368  2021-11-30\n",
      "2021-10-29  1.15802  1.16922  1.15230  1.15610  2021-10-29\n",
      "2021-09-30  1.18088  1.19090  1.15610  1.15800  2021-09-30\n",
      "2021-08-31  1.18635  1.18997  1.16620  1.18080  2021-08-31\n",
      "2021-07-30  1.18564  1.19087  1.17500  1.18684  2021-07-30\n"
     ]
    }
   ],
   "source": [
    "finaldataframe = pd.DataFrame(dataframe.iloc[0:26])\n",
    "print(finaldataframe)\n",
    "###Since I am interested only in the last two years, I created a new dataframe with data for the last two years"
   ]
  },
  {
   "cell_type": "code",
   "execution_count": 10,
   "id": "7a2e9747",
   "metadata": {},
   "outputs": [
    {
     "name": "stdout",
     "output_type": "stream",
     "text": [
      "2022-10-31    0.97954\n",
      "Name: Open, dtype: object\n",
      "2021-08-31    1.18635\n",
      "Name: Open, dtype: object\n"
     ]
    }
   ],
   "source": [
    "minimumvaluesofUSD = finaldataframe['Open'].sort_values(ascending = False)\n",
    "maximumvaluesofUSD = finaldataframe['Open'].sort_values(ascending = True)\n",
    "strongestUSD = maximumvaluesofUSD[0:1]\n",
    "weakestUSD = minimumvaluesofUSD[0:1]\n",
    "print(strongestUSD) ###2022-10-31: 0.97954\n",
    "print(weakestUSD) ###2021-08-31    1.18635"
   ]
  },
  {
   "cell_type": "code",
   "execution_count": 13,
   "id": "d6b956c2",
   "metadata": {},
   "outputs": [
    {
     "data": {
      "image/png": "[encoded data removed]",
      "text/plain": [
       "<Figure size 1080x432 with 1 Axes>"
      ]
     },
     "metadata": {
      "needs_background": "light"
     },
     "output_type": "display_data"
    }
   ],
   "source": [
    "finaldataframe[['Open', 'High', 'Low', 'Close']] = finaldataframe[['Open', 'High', 'Low', 'Close']].astype(float)\n",
    "###Changing data type because before changing it to numeric format in order to plot the trend\n",
    "\n",
    "\n",
    "finaldataframe.plot(x=\"Month\", y='Open', kind=\"line\") ###x axis will be column Month and y axis will be column Open\n",
    "plt.ylim(0.95, 1.25)\n",
    "plt.xlim(finaldataframe['Month']['2021-07-30'], finaldataframe['Month']['2023-08-23'])\n",
    "\n",
    "plt.xlabel('Year-Month')\n",
    "plt.ylabel('USD compared to 1EURO')\n",
    "plt.title('Euro-dollar exchange rate over time')\n",
    "plt.rcParams[\"figure.figsize\"] = (15,8)\n",
    "plt.show()"
   ]
  },
  {
   "cell_type": "markdown",
   "id": "894e30dc",
   "metadata": {},
   "source": [
    "From the visualization above, we can easily see how value of EURO dropped during 2022. In November and December the value of EURO was even weaker than value of USD. In 2023 the value of EURO started strengthening again. "
   ]
  },
  {
   "cell_type": "markdown",
   "id": "031b3464",
   "metadata": {},
   "source": [
    "## Initializing s3 connection"
   ]
  },
  {
   "cell_type": "code",
   "execution_count": 17,
   "id": "8479fe87",
   "metadata": {},
   "outputs": [],
   "source": [
    "#aws_access_key_id = os.environ['aws_access_key_id']\n",
    "#aws_secret_access_key = os.environ['aws_secret_access_key']\n",
    "#s3 = boto3.client('s3', region_name='us-east-1',  \n",
    "#                        aws_access_key_id=aws_access_key_id, \n",
    "#                         aws_secret_access_key=aws_secret_access_key)"
   ]
  },
  {
   "cell_type": "code",
   "execution_count": 18,
   "id": "c3d08fe0",
   "metadata": {},
   "outputs": [],
   "source": [
    "#bucket = 'your-bucket-name'\n",
    "\n",
    "#s3.upload_file(\n",
    "#    Filename = 'exchangerateEURUSD.csv',\n",
    "#    Bucket = bucket,\n",
    "#    Key = 'exchangerateEURUSD.csv'\n",
    "#)\n",
    "###Uploading file to s3"
   ]
  },
  {
   "cell_type": "code",
   "execution_count": 19,
   "id": "8d49b41a",
   "metadata": {},
   "outputs": [],
   "source": [
    "#s3.put_object_acl(\n",
    "#    Bucket = bucket,\n",
    "#    Key = 'exchangerateEURUSD.csv',\n",
    "#    ACL = 'public-read'\n",
    "#)\n",
    "\n",
    "###Allowing public access to url"
   ]
  },
  {
   "cell_type": "markdown",
   "id": "24be2d04",
   "metadata": {},
   "source": [
    "## Creating a URL to share data"
   ]
  },
  {
   "cell_type": "code",
   "execution_count": 20,
   "id": "147c39b2",
   "metadata": {},
   "outputs": [],
   "source": [
    "#url = \"https://{}.s3.amazonaws.com/{}\".format(bucket, \"exchangerateEURUSD.csv\")\n",
    "#url\n",
    "###'https://your-bucket-name.s3.amazonaws.com/exchangerateEURUSD.csv'"
   ]
  },
  {
   "cell_type": "markdown",
   "id": "b884beca",
   "metadata": {},
   "source": [
    "Danilo Nikcevic"
   ]
  }
 ],
 "metadata": {
  "kernelspec": {
   "display_name": "Python 3 (ipykernel)",
   "language": "python",
   "name": "python3"
  },
  "language_info": {
   "codemirror_mode": {
    "name": "ipython",
    "version": 3
   },
   "file_extension": ".py",
   "mimetype": "text/x-python",
   "name": "python",
   "nbconvert_exporter": "python",
   "pygments_lexer": "ipython3",
   "version": "3.9.12"
  }
 },
 "nbformat": 4,
 "nbformat_minor": 5
}
