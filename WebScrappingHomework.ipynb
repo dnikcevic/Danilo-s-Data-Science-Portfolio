{
 "cells": [
  {
   "cell_type": "markdown",
   "id": "4e12fad9",
   "metadata": {},
   "source": [
    "## Euro - dollar exchange rate in past 24 months"
   ]
  },
  {
   "cell_type": "markdown",
   "id": "7f901cea",
   "metadata": {},
   "source": [
    "## Importing packages"
   ]
  },
  {
   "cell_type": "code",
   "execution_count": 1,
   "id": "435243c4",
   "metadata": {},
   "outputs": [],
   "source": [
    "import pandas as pd ###using pandas in order to structure data in a dataframe and get all other benefits while wrangling data\n",
    "import os ###using os for enviromental variables \n",
    "import requests ###using requests to get the data from the website\n",
    "import matplotlib.pyplot as plt ###using matplot.lib.pyplot to plot data and show trends - to visually depict my goal\n",
    "import boto3 ###using boto3 to storage data into my aws account"
   ]
  },
  {
   "cell_type": "markdown",
   "id": "03e755a1",
   "metadata": {},
   "source": [
    "## Requesting data"
   ]
  },
  {
   "cell_type": "code",
   "execution_count": 2,
   "id": "e65122ab",
   "metadata": {},
   "outputs": [],
   "source": [
    "api = os.environ.get('alphavantageapi')\n",
    "url = 'https://www.alphavantage.co/query?function=FX_MONTHLY&from_symbol=EUR&to_symbol=USD&apikey=api'\n",
    "r = requests.get(url)\n",
    "data = r.json()\n",
    "#print(data)"
   ]
  },
  {
   "cell_type": "markdown",
   "id": "4e9b6911",
   "metadata": {},
   "source": [
    "## Storaging data in a functional structure (dataframe)"
   ]
  },
  {
   "cell_type": "code",
   "execution_count": 3,
   "id": "343786f2",
   "metadata": {},
   "outputs": [
    {
     "data": {
      "text/html": [
       "<div>\n",
       "<style scoped>\n",
       "    .dataframe tbody tr th:only-of-type {\n",
       "        vertical-align: middle;\n",
       "    }\n",
       "\n",
       "    .dataframe tbody tr th {\n",
       "        vertical-align: top;\n",
       "    }\n",
       "\n",
       "    .dataframe thead th {\n",
       "        text-align: right;\n",
       "    }\n",
       "</style>\n",
       "<table border=\"1\" class=\"dataframe\">\n",
       "  <thead>\n",
       "    <tr style=\"text-align: right;\">\n",
       "      <th></th>\n",
       "      <th>Open</th>\n",
       "      <th>High</th>\n",
       "      <th>Low</th>\n",
       "      <th>Close</th>\n",
       "    </tr>\n",
       "  </thead>\n",
       "  <tbody>\n",
       "    <tr>\n",
       "      <th>2023-02-19</th>\n",
       "      <td>1.08610</td>\n",
       "      <td>1.10327</td>\n",
       "      <td>1.06110</td>\n",
       "      <td>1.06876</td>\n",
       "    </tr>\n",
       "    <tr>\n",
       "      <th>2023-01-31</th>\n",
       "      <td>1.07031</td>\n",
       "      <td>1.09294</td>\n",
       "      <td>1.04816</td>\n",
       "      <td>1.08626</td>\n",
       "    </tr>\n",
       "    <tr>\n",
       "      <th>2022-12-30</th>\n",
       "      <td>1.04041</td>\n",
       "      <td>1.07363</td>\n",
       "      <td>1.03906</td>\n",
       "      <td>1.07025</td>\n",
       "    </tr>\n",
       "    <tr>\n",
       "      <th>2022-11-30</th>\n",
       "      <td>0.98818</td>\n",
       "      <td>1.04969</td>\n",
       "      <td>0.97280</td>\n",
       "      <td>1.04041</td>\n",
       "    </tr>\n",
       "    <tr>\n",
       "      <th>2022-10-31</th>\n",
       "      <td>0.97954</td>\n",
       "      <td>1.00937</td>\n",
       "      <td>0.96290</td>\n",
       "      <td>0.98814</td>\n",
       "    </tr>\n",
       "    <tr>\n",
       "      <th>...</th>\n",
       "      <td>...</td>\n",
       "      <td>...</td>\n",
       "      <td>...</td>\n",
       "      <td>...</td>\n",
       "    </tr>\n",
       "    <tr>\n",
       "      <th>2004-05-31</th>\n",
       "      <td>1.19760</td>\n",
       "      <td>1.22950</td>\n",
       "      <td>1.17760</td>\n",
       "      <td>1.21940</td>\n",
       "    </tr>\n",
       "    <tr>\n",
       "      <th>2004-04-30</th>\n",
       "      <td>1.22950</td>\n",
       "      <td>1.23880</td>\n",
       "      <td>1.17560</td>\n",
       "      <td>1.19790</td>\n",
       "    </tr>\n",
       "    <tr>\n",
       "      <th>2004-03-31</th>\n",
       "      <td>1.24820</td>\n",
       "      <td>1.25390</td>\n",
       "      <td>1.20430</td>\n",
       "      <td>1.23140</td>\n",
       "    </tr>\n",
       "    <tr>\n",
       "      <th>2004-02-27</th>\n",
       "      <td>1.24140</td>\n",
       "      <td>1.29270</td>\n",
       "      <td>1.23670</td>\n",
       "      <td>1.24860</td>\n",
       "    </tr>\n",
       "    <tr>\n",
       "      <th>2004-01-30</th>\n",
       "      <td>1.25460</td>\n",
       "      <td>1.28980</td>\n",
       "      <td>1.23300</td>\n",
       "      <td>1.24740</td>\n",
       "    </tr>\n",
       "  </tbody>\n",
       "</table>\n",
       "<p>230 rows × 4 columns</p>\n",
       "</div>"
      ],
      "text/plain": [
       "               Open     High      Low    Close\n",
       "2023-02-19  1.08610  1.10327  1.06110  1.06876\n",
       "2023-01-31  1.07031  1.09294  1.04816  1.08626\n",
       "2022-12-30  1.04041  1.07363  1.03906  1.07025\n",
       "2022-11-30  0.98818  1.04969  0.97280  1.04041\n",
       "2022-10-31  0.97954  1.00937  0.96290  0.98814\n",
       "...             ...      ...      ...      ...\n",
       "2004-05-31  1.19760  1.22950  1.17760  1.21940\n",
       "2004-04-30  1.22950  1.23880  1.17560  1.19790\n",
       "2004-03-31  1.24820  1.25390  1.20430  1.23140\n",
       "2004-02-27  1.24140  1.29270  1.23670  1.24860\n",
       "2004-01-30  1.25460  1.28980  1.23300  1.24740\n",
       "\n",
       "[230 rows x 4 columns]"
      ]
     },
     "execution_count": 3,
     "metadata": {},
     "output_type": "execute_result"
    }
   ],
   "source": [
    "dataframe = pd.DataFrame.from_dict(data['Time Series FX (Monthly)'], orient = 'index')\n",
    "dataframe.columns = ['Open', 'High', 'Low', 'Close']\n",
    "dataframe\n",
    "###Monthly data from 2004 to 2023 "
   ]
  },
  {
   "cell_type": "code",
   "execution_count": 4,
   "id": "1b23e334",
   "metadata": {},
   "outputs": [],
   "source": [
    "import datetime as dt\n",
    "\n",
    "transposeddf = pd.DataFrame.transpose(dataframe)\n",
    "\n",
    "\n",
    "YearMonthDay = []\n",
    "for month in transposeddf:\n",
    "    YearMonthDay.append(dt.datetime.strptime(month, \"%Y-%m-%d\").date())\n",
    "###using datetime to get date type of data\n",
    "###Transposing dataframe to iterate through the columns and get all dates\n",
    "#print(YearMonthDay)    "
   ]
  },
  {
   "cell_type": "code",
   "execution_count": 5,
   "id": "39c5b137",
   "metadata": {},
   "outputs": [],
   "source": [
    "dataframe['Month'] = YearMonthDay\n",
    "###appending a new list to a dataframe\n",
    "#print(dataframe)"
   ]
  },
  {
   "cell_type": "code",
   "execution_count": 8,
   "id": "5f384ebb",
   "metadata": {},
   "outputs": [
    {
     "data": {
      "text/html": [
       "<div>\n",
       "<style scoped>\n",
       "    .dataframe tbody tr th:only-of-type {\n",
       "        vertical-align: middle;\n",
       "    }\n",
       "\n",
       "    .dataframe tbody tr th {\n",
       "        vertical-align: top;\n",
       "    }\n",
       "\n",
       "    .dataframe thead th {\n",
       "        text-align: right;\n",
       "    }\n",
       "</style>\n",
       "<table border=\"1\" class=\"dataframe\">\n",
       "  <thead>\n",
       "    <tr style=\"text-align: right;\">\n",
       "      <th></th>\n",
       "      <th>Open</th>\n",
       "      <th>High</th>\n",
       "      <th>Low</th>\n",
       "      <th>Close</th>\n",
       "      <th>Month</th>\n",
       "    </tr>\n",
       "  </thead>\n",
       "  <tbody>\n",
       "    <tr>\n",
       "      <th>2023-02-19</th>\n",
       "      <td>1.08610</td>\n",
       "      <td>1.10327</td>\n",
       "      <td>1.06110</td>\n",
       "      <td>1.06876</td>\n",
       "      <td>2023-02-19</td>\n",
       "    </tr>\n",
       "    <tr>\n",
       "      <th>2023-01-31</th>\n",
       "      <td>1.07031</td>\n",
       "      <td>1.09294</td>\n",
       "      <td>1.04816</td>\n",
       "      <td>1.08626</td>\n",
       "      <td>2023-01-31</td>\n",
       "    </tr>\n",
       "    <tr>\n",
       "      <th>2022-12-30</th>\n",
       "      <td>1.04041</td>\n",
       "      <td>1.07363</td>\n",
       "      <td>1.03906</td>\n",
       "      <td>1.07025</td>\n",
       "      <td>2022-12-30</td>\n",
       "    </tr>\n",
       "    <tr>\n",
       "      <th>2022-11-30</th>\n",
       "      <td>0.98818</td>\n",
       "      <td>1.04969</td>\n",
       "      <td>0.97280</td>\n",
       "      <td>1.04041</td>\n",
       "      <td>2022-11-30</td>\n",
       "    </tr>\n",
       "    <tr>\n",
       "      <th>2022-10-31</th>\n",
       "      <td>0.97954</td>\n",
       "      <td>1.00937</td>\n",
       "      <td>0.96290</td>\n",
       "      <td>0.98814</td>\n",
       "      <td>2022-10-31</td>\n",
       "    </tr>\n",
       "    <tr>\n",
       "      <th>2022-09-30</th>\n",
       "      <td>1.00507</td>\n",
       "      <td>1.01979</td>\n",
       "      <td>0.95320</td>\n",
       "      <td>0.98003</td>\n",
       "      <td>2022-09-30</td>\n",
       "    </tr>\n",
       "    <tr>\n",
       "      <th>2022-08-31</th>\n",
       "      <td>1.02182</td>\n",
       "      <td>1.03687</td>\n",
       "      <td>0.98990</td>\n",
       "      <td>1.00501</td>\n",
       "      <td>2022-08-31</td>\n",
       "    </tr>\n",
       "    <tr>\n",
       "      <th>2022-07-29</th>\n",
       "      <td>1.04770</td>\n",
       "      <td>1.04820</td>\n",
       "      <td>0.99500</td>\n",
       "      <td>1.02248</td>\n",
       "      <td>2022-07-29</td>\n",
       "    </tr>\n",
       "    <tr>\n",
       "      <th>2022-06-30</th>\n",
       "      <td>1.07308</td>\n",
       "      <td>1.07738</td>\n",
       "      <td>1.03570</td>\n",
       "      <td>1.04771</td>\n",
       "      <td>2022-06-30</td>\n",
       "    </tr>\n",
       "    <tr>\n",
       "      <th>2022-05-31</th>\n",
       "      <td>1.05464</td>\n",
       "      <td>1.07870</td>\n",
       "      <td>1.03480</td>\n",
       "      <td>1.07313</td>\n",
       "      <td>2022-05-31</td>\n",
       "    </tr>\n",
       "    <tr>\n",
       "      <th>2022-04-29</th>\n",
       "      <td>1.10658</td>\n",
       "      <td>1.10761</td>\n",
       "      <td>1.04690</td>\n",
       "      <td>1.05410</td>\n",
       "      <td>2022-04-29</td>\n",
       "    </tr>\n",
       "    <tr>\n",
       "      <th>2022-03-31</th>\n",
       "      <td>1.12176</td>\n",
       "      <td>1.12331</td>\n",
       "      <td>1.08040</td>\n",
       "      <td>1.10660</td>\n",
       "      <td>2022-03-31</td>\n",
       "    </tr>\n",
       "    <tr>\n",
       "      <th>2022-02-28</th>\n",
       "      <td>1.12346</td>\n",
       "      <td>1.14949</td>\n",
       "      <td>1.11040</td>\n",
       "      <td>1.12175</td>\n",
       "      <td>2022-02-28</td>\n",
       "    </tr>\n",
       "    <tr>\n",
       "      <th>2022-01-31</th>\n",
       "      <td>1.13707</td>\n",
       "      <td>1.14830</td>\n",
       "      <td>1.11200</td>\n",
       "      <td>1.12334</td>\n",
       "      <td>2022-01-31</td>\n",
       "    </tr>\n",
       "    <tr>\n",
       "      <th>2021-12-31</th>\n",
       "      <td>1.13350</td>\n",
       "      <td>1.13865</td>\n",
       "      <td>1.12200</td>\n",
       "      <td>1.13659</td>\n",
       "      <td>2021-12-31</td>\n",
       "    </tr>\n",
       "    <tr>\n",
       "      <th>2021-11-30</th>\n",
       "      <td>1.15631</td>\n",
       "      <td>1.16164</td>\n",
       "      <td>1.11850</td>\n",
       "      <td>1.13368</td>\n",
       "      <td>2021-11-30</td>\n",
       "    </tr>\n",
       "    <tr>\n",
       "      <th>2021-10-29</th>\n",
       "      <td>1.15802</td>\n",
       "      <td>1.16922</td>\n",
       "      <td>1.15230</td>\n",
       "      <td>1.15610</td>\n",
       "      <td>2021-10-29</td>\n",
       "    </tr>\n",
       "    <tr>\n",
       "      <th>2021-09-30</th>\n",
       "      <td>1.18088</td>\n",
       "      <td>1.19090</td>\n",
       "      <td>1.15610</td>\n",
       "      <td>1.15800</td>\n",
       "      <td>2021-09-30</td>\n",
       "    </tr>\n",
       "    <tr>\n",
       "      <th>2021-08-31</th>\n",
       "      <td>1.18635</td>\n",
       "      <td>1.18997</td>\n",
       "      <td>1.16620</td>\n",
       "      <td>1.18080</td>\n",
       "      <td>2021-08-31</td>\n",
       "    </tr>\n",
       "    <tr>\n",
       "      <th>2021-07-30</th>\n",
       "      <td>1.18564</td>\n",
       "      <td>1.19087</td>\n",
       "      <td>1.17500</td>\n",
       "      <td>1.18684</td>\n",
       "      <td>2021-07-30</td>\n",
       "    </tr>\n",
       "    <tr>\n",
       "      <th>2021-06-30</th>\n",
       "      <td>1.22259</td>\n",
       "      <td>1.22544</td>\n",
       "      <td>1.18430</td>\n",
       "      <td>1.18570</td>\n",
       "      <td>2021-06-30</td>\n",
       "    </tr>\n",
       "    <tr>\n",
       "      <th>2021-05-31</th>\n",
       "      <td>1.20257</td>\n",
       "      <td>1.22664</td>\n",
       "      <td>1.19840</td>\n",
       "      <td>1.22260</td>\n",
       "      <td>2021-05-31</td>\n",
       "    </tr>\n",
       "    <tr>\n",
       "      <th>2021-04-30</th>\n",
       "      <td>1.17260</td>\n",
       "      <td>1.21500</td>\n",
       "      <td>1.17110</td>\n",
       "      <td>1.20190</td>\n",
       "      <td>2021-04-30</td>\n",
       "    </tr>\n",
       "    <tr>\n",
       "      <th>2021-03-31</th>\n",
       "      <td>1.20718</td>\n",
       "      <td>1.21133</td>\n",
       "      <td>1.17020</td>\n",
       "      <td>1.17266</td>\n",
       "      <td>2021-03-31</td>\n",
       "    </tr>\n",
       "    <tr>\n",
       "      <th>2021-02-26</th>\n",
       "      <td>1.21285</td>\n",
       "      <td>1.22432</td>\n",
       "      <td>1.19510</td>\n",
       "      <td>1.20704</td>\n",
       "      <td>2021-02-26</td>\n",
       "    </tr>\n",
       "    <tr>\n",
       "      <th>2021-01-29</th>\n",
       "      <td>1.22150</td>\n",
       "      <td>1.23495</td>\n",
       "      <td>1.20520</td>\n",
       "      <td>1.21362</td>\n",
       "      <td>2021-01-29</td>\n",
       "    </tr>\n",
       "  </tbody>\n",
       "</table>\n",
       "</div>"
      ],
      "text/plain": [
       "               Open     High      Low    Close       Month\n",
       "2023-02-19  1.08610  1.10327  1.06110  1.06876  2023-02-19\n",
       "2023-01-31  1.07031  1.09294  1.04816  1.08626  2023-01-31\n",
       "2022-12-30  1.04041  1.07363  1.03906  1.07025  2022-12-30\n",
       "2022-11-30  0.98818  1.04969  0.97280  1.04041  2022-11-30\n",
       "2022-10-31  0.97954  1.00937  0.96290  0.98814  2022-10-31\n",
       "2022-09-30  1.00507  1.01979  0.95320  0.98003  2022-09-30\n",
       "2022-08-31  1.02182  1.03687  0.98990  1.00501  2022-08-31\n",
       "2022-07-29  1.04770  1.04820  0.99500  1.02248  2022-07-29\n",
       "2022-06-30  1.07308  1.07738  1.03570  1.04771  2022-06-30\n",
       "2022-05-31  1.05464  1.07870  1.03480  1.07313  2022-05-31\n",
       "2022-04-29  1.10658  1.10761  1.04690  1.05410  2022-04-29\n",
       "2022-03-31  1.12176  1.12331  1.08040  1.10660  2022-03-31\n",
       "2022-02-28  1.12346  1.14949  1.11040  1.12175  2022-02-28\n",
       "2022-01-31  1.13707  1.14830  1.11200  1.12334  2022-01-31\n",
       "2021-12-31  1.13350  1.13865  1.12200  1.13659  2021-12-31\n",
       "2021-11-30  1.15631  1.16164  1.11850  1.13368  2021-11-30\n",
       "2021-10-29  1.15802  1.16922  1.15230  1.15610  2021-10-29\n",
       "2021-09-30  1.18088  1.19090  1.15610  1.15800  2021-09-30\n",
       "2021-08-31  1.18635  1.18997  1.16620  1.18080  2021-08-31\n",
       "2021-07-30  1.18564  1.19087  1.17500  1.18684  2021-07-30\n",
       "2021-06-30  1.22259  1.22544  1.18430  1.18570  2021-06-30\n",
       "2021-05-31  1.20257  1.22664  1.19840  1.22260  2021-05-31\n",
       "2021-04-30  1.17260  1.21500  1.17110  1.20190  2021-04-30\n",
       "2021-03-31  1.20718  1.21133  1.17020  1.17266  2021-03-31\n",
       "2021-02-26  1.21285  1.22432  1.19510  1.20704  2021-02-26\n",
       "2021-01-29  1.22150  1.23495  1.20520  1.21362  2021-01-29"
      ]
     },
     "execution_count": 8,
     "metadata": {},
     "output_type": "execute_result"
    }
   ],
   "source": [
    "finaldataframe = pd.DataFrame(dataframe.iloc[0:26])\n",
    "print(finaldataframe)\n",
    "###Since I am interested only in last two years, I created a new dataframe with data for last two years"
   ]
  },
  {
   "cell_type": "markdown",
   "id": "9376b184",
   "metadata": {},
   "source": [
    "## Insights"
   ]
  },
  {
   "cell_type": "code",
   "execution_count": 18,
   "id": "669e4649",
   "metadata": {},
   "outputs": [
    {
     "name": "stdout",
     "output_type": "stream",
     "text": [
      "2022-10-31    0.97954\n",
      "Name: Open, dtype: object\n",
      "2021-06-30    1.22259\n",
      "Name: Open, dtype: object\n"
     ]
    }
   ],
   "source": [
    "minimumvaluesofUSD = finaldataframe['Open'].sort_values(ascending = False)\n",
    "maximumvaluesofUSD = finaldataframe['Open'].sort_values(ascending = True)\n",
    "strongestUSD = maximumvaluesofUSD[0:1]\n",
    "weakestUSD = minimumvaluesofUSD[0:1]\n",
    "print(strongestUSD) ###2022-10-31: 0.97954\n",
    "print(weakestUSD) ###2021-06-30: 1.22259"
   ]
  },
  {
   "cell_type": "code",
   "execution_count": 21,
   "id": "6ba98567",
   "metadata": {},
   "outputs": [
    {
     "data": {
      "image/png": "[encoded data removed]",
      "text/plain": [
       "<Figure size 720x432 with 1 Axes>"
      ]
     },
     "metadata": {
      "needs_background": "light"
     },
     "output_type": "display_data"
    }
   ],
   "source": [
    "finaldataframe[['Open', 'High', 'Low', 'Close']] = finaldataframe[['Open', 'High', 'Low', 'Close']].astype(float)\n",
    "###Changing data type because before changing it to numeric format I wasn't able to plot the trend\n",
    "\n",
    "\n",
    "finaldataframe.plot(x=\"Month\", y='Open', kind=\"line\")\n",
    "plt.ylim(0.95, 1.25)\n",
    "plt.xlim(finaldataframe['Month']['2021-01-29'], finaldataframe['Month']['2023-02-19'])\n",
    "###ATTENTION! Data for February 2023 changes on daily basis so if we try to plot February 19th 2023 but we scraped data on\n",
    "###February 20th 2023 we will get an error. The last day in dataset will always be a date on which we scrape data.\n",
    "plt.xlabel('Year-Month')\n",
    "plt.ylabel('USD compared to 1EUR')\n",
    "plt.title('Euro-dollar exchange rate over time')\n",
    "plt.rcParams[\"figure.figsize\"] = (15,6)\n",
    "plt.show()"
   ]
  },
  {
   "cell_type": "code",
   "execution_count": 22,
   "id": "1ee742aa",
   "metadata": {},
   "outputs": [],
   "source": [
    "finaldataframe.to_csv('ExchangeRateEURUSD.csv')\n",
    "###Saving dataframe in order to upload it to s3 bucket"
   ]
  },
  {
   "cell_type": "markdown",
   "id": "88d0f200",
   "metadata": {},
   "source": [
    "## Initalizing S3 connection"
   ]
  },
  {
   "cell_type": "code",
   "execution_count": 23,
   "id": "85be725e",
   "metadata": {},
   "outputs": [],
   "source": [
    "import boto3 ###to connect with aws"
   ]
  },
  {
   "cell_type": "code",
   "execution_count": 24,
   "id": "9abd2484",
   "metadata": {},
   "outputs": [],
   "source": [
    "aws_access_key_id = os.environ['aws_access_key_id']\n",
    "aws_secret_access_key = os.environ['aws_secret_access_key']\n",
    "s3 = boto3.client('s3', region_name='us-east-1',  \n",
    "                        aws_access_key_id=aws_access_key_id, \n",
    "                         aws_secret_access_key=aws_secret_access_key)"
   ]
  },
  {
   "cell_type": "code",
   "execution_count": 28,
   "id": "52daec6c",
   "metadata": {},
   "outputs": [],
   "source": [
    "bucket = 'dnikcevic-individual-files'\n",
    "\n",
    "s3.upload_file(\n",
    "    Filename = 'exchangerateEURUSD.csv',\n",
    "    Bucket = bucket,\n",
    "    Key = 'exchangerateEURUSD.csv'\n",
    ")\n",
    "###Uploading file to s3"
   ]
  },
  {
   "cell_type": "code",
   "execution_count": 30,
   "id": "ca689ab1",
   "metadata": {},
   "outputs": [
    {
     "data": {
      "text/plain": [
       "{'ResponseMetadata': {'RequestId': 'H77Q14KP3DWS3SK3',\n",
       "  'HostId': 'sqTm01aDjsHFgBuULEx36U+92Wo9u1LFonTrOuLFOvv52txsa4QMuXDA0whuXAVFkQibkM9F0wN72f0b5ajZMA==',\n",
       "  'HTTPStatusCode': 200,\n",
       "  'HTTPHeaders': {'x-amz-id-2': 'sqTm01aDjsHFgBuULEx36U+92Wo9u1LFonTrOuLFOvv52txsa4QMuXDA0whuXAVFkQibkM9F0wN72f0b5ajZMA==',\n",
       "   'x-amz-request-id': 'H77Q14KP3DWS3SK3',\n",
       "   'date': 'Sun, 19 Feb 2023 23:34:31 GMT',\n",
       "   'server': 'AmazonS3',\n",
       "   'content-length': '0'},\n",
       "  'RetryAttempts': 0}}"
      ]
     },
     "execution_count": 30,
     "metadata": {},
     "output_type": "execute_result"
    }
   ],
   "source": [
    "s3.put_object_acl(\n",
    "    Bucket = bucket,\n",
    "    Key = 'exchangerateEURUSD.csv',\n",
    "    ACL = 'public-read'\n",
    ")\n",
    "\n",
    "###Allowing public access to url"
   ]
  },
  {
   "cell_type": "markdown",
   "id": "a6ada0c8",
   "metadata": {},
   "source": [
    "## Creating URL"
   ]
  },
  {
   "cell_type": "code",
   "execution_count": 34,
   "id": "5708cc7f",
   "metadata": {},
   "outputs": [
    {
     "data": {
      "text/plain": [
       "'https://dnikcevic-individual-files.s3.amazonaws.com/exchangerateEURUSD.csv'"
      ]
     },
     "execution_count": 34,
     "metadata": {},
     "output_type": "execute_result"
    }
   ],
   "source": [
    "url = \"https://{}.s3.amazonaws.com/{}\".format(bucket, \"exchangerateEURUSD.csv\")\n",
    "url ###https://dnikcevic-individual-files.s3.amazonaws.com/exchangerateEURUSD.csv"
   ]
  },
  {
   "cell_type": "markdown",
   "id": "0bfcf786",
   "metadata": {},
   "source": [
    "Danilo Nikcevic, February 19th 2023"
   ]
  }
 ],
 "metadata": {
  "kernelspec": {
   "display_name": "Python 3 (ipykernel)",
   "language": "python",
   "name": "python3"
  },
  "language_info": {
   "codemirror_mode": {
    "name": "ipython",
    "version": 3
   },
   "file_extension": ".py",
   "mimetype": "text/x-python",
   "name": "python",
   "nbconvert_exporter": "python",
   "pygments_lexer": "ipython3",
   "version": "3.9.12"
  }
 },
 "nbformat": 4,
 "nbformat_minor": 5
}
